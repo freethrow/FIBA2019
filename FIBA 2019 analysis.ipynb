{
 "cells": [
  {
   "cell_type": "code",
   "execution_count": 1,
   "metadata": {},
   "outputs": [],
   "source": [
    "%matplotlib inline\n",
    "import numpy as np\n",
    "import pandas as pd\n",
    "\n",
    "import matplotlib.pyplot as plt"
   ]
  },
  {
   "cell_type": "code",
   "execution_count": 5,
   "metadata": {},
   "outputs": [],
   "source": [
    "fiba_raw = pd.read_json('big.json', orient='columns', encoding = 'utf8')"
   ]
  },
  {
   "cell_type": "code",
   "execution_count": 9,
   "metadata": {},
   "outputs": [
    {
     "data": {
      "text/plain": [
       "{'PlayerId': 152139,\n",
       " 'PlayerLink': '/basketballworldcup/2019/player/Joe-Ingles',\n",
       " 'ShirtNumber': 'N/A',\n",
       " 'Position': 'Small Forward',\n",
       " 'OfficialName': 'Joe Ingles (AUS)',\n",
       " 'LastName': 'Ingles',\n",
       " 'GamesPlayedTotal': 8,\n",
       " 'MinutesTotal': 271,\n",
       " 'SecondsTotal': 16261,\n",
       " 'PointsTotal': 84,\n",
       " 'FieldGoals2PointsMadeTotal': 20,\n",
       " 'FieldGoals2PointsAttemptedTotal': 30,\n",
       " 'FieldGoals3PointsMadeTotal': 10,\n",
       " 'FieldGoals3PointsAttemptedTotal': 38,\n",
       " 'FreeThrowsMadeTotal': 14,\n",
       " 'FreeThrowsAttemptedTotal': 16,\n",
       " 'OffensiveReboundsTotal': 1,\n",
       " 'DefensiveReboundsTotal': 48,\n",
       " 'BlocksTotal': 3,\n",
       " 'AssistsTotal': 45,\n",
       " 'TurnOversTotal': 24,\n",
       " 'StealsTotal': 13,\n",
       " 'PersonalFoulsTotal': 18,\n",
       " 'Efficiency': 130.0,\n",
       " 'PlusMinus': 39,\n",
       " 'DoubleDoubles': 1,\n",
       " 'TripleDoubles': 0}"
      ]
     },
     "execution_count": 9,
     "metadata": {},
     "output_type": "execute_result"
    }
   ],
   "source": [
    "fiba_raw['players'][0]"
   ]
  },
  {
   "cell_type": "code",
   "execution_count": 10,
   "metadata": {},
   "outputs": [],
   "source": [
    "def transform_dict(player):\n",
    "    cardict = {}\n",
    "    for feature in ['brand','make']:\n",
    "        cardict[feature] = car[feature]\n",
    "    \n",
    "    try:\n",
    "        \n",
    "        cardict['price'] = float(car['price'].split(' ')[0].replace('.',''))\n",
    "        \n",
    "    except ValueError:\n",
    "         cardict['price'] = ''\n",
    "   \n",
    "    for item in car['basic']:\n",
    "        if u'godište' in item:\n",
    "            cardict['year'] = int(item.split('.')[0])\n",
    "        if u'cm3' in item:\n",
    "            cardict['cm3'] = int(item.split(' ')[0])\n",
    "        if u'km' in item:\n",
    "            cardict['km'] = float(item.split(' ')[0].replace('.',''))\n",
    "        if u'KW' in item:\n",
    "            cardict['KW'] = str(item.split(' ')[0])\n",
    "        if ('Dizel' in item):\n",
    "            cardict['fuel'] = 'Diesel'\n",
    "        if ('Gas (TNG)' in item) and ('benzin' in str(item).lower()):\n",
    "            cardict['fuel'] = 'LPG/Gasoline'\n",
    "        if ('Gas (TNG)' not in item) and ('benzin' in str(item).lower()):\n",
    "            cardict['fuel'] = 'Gasoline'\n",
    "        if ('Metan CNG' in item):\n",
    "            cardict['fuel'] = 'Methane'\n",
    "            \n",
    "    for item in car['adv']:\n",
    "        \n",
    "        if u'Menjač' in item:            \n",
    "            cardict['gearbox'] = str(item.split(' ')[1])\n",
    "        if u'Broj vrata' in item:            \n",
    "            cardict['doors'] = str(item.split(' ')[-1])\n",
    "        if u'Kategorija' in item:            \n",
    "            cardict['category'] = str(item.split(' ')[1])\n",
    "            \n",
    "            \n",
    "        if u'Nije registrovan' in item:            \n",
    "            cardict['registered'] = 0\n",
    "            \n",
    "        if u'Registrovano' in item:\n",
    "            cardict['registered'] = 1\n",
    "        \n",
    "        if u'Havarisano Ne' in item:\n",
    "            cardict['damage'] = 0\n",
    "        \n",
    "        if u'Havarisano Da' in item:\n",
    "            cardict['damage'] = 1\n",
    "            \n",
    "               \n",
    "    \n",
    "    return cardict"
   ]
  },
  {
   "cell_type": "code",
   "execution_count": 11,
   "metadata": {},
   "outputs": [
    {
     "data": {
      "text/plain": [
       "pandas.core.series.Series"
      ]
     },
     "execution_count": 11,
     "metadata": {},
     "output_type": "execute_result"
    }
   ],
   "source": [
    "type(fiba_raw['players'])"
   ]
  },
  {
   "cell_type": "code",
   "execution_count": 13,
   "metadata": {},
   "outputs": [],
   "source": [
    "players = pd.DataFrame(list(fiba_raw['players']))"
   ]
  },
  {
   "cell_type": "code",
   "execution_count": 14,
   "metadata": {},
   "outputs": [
    {
     "data": {
      "text/html": [
       "<div>\n",
       "<style scoped>\n",
       "    .dataframe tbody tr th:only-of-type {\n",
       "        vertical-align: middle;\n",
       "    }\n",
       "\n",
       "    .dataframe tbody tr th {\n",
       "        vertical-align: top;\n",
       "    }\n",
       "\n",
       "    .dataframe thead th {\n",
       "        text-align: right;\n",
       "    }\n",
       "</style>\n",
       "<table border=\"1\" class=\"dataframe\">\n",
       "  <thead>\n",
       "    <tr style=\"text-align: right;\">\n",
       "      <th></th>\n",
       "      <th>AssistsTotal</th>\n",
       "      <th>BlocksTotal</th>\n",
       "      <th>DefensiveReboundsTotal</th>\n",
       "      <th>DoubleDoubles</th>\n",
       "      <th>Efficiency</th>\n",
       "      <th>FieldGoals2PointsAttemptedTotal</th>\n",
       "      <th>FieldGoals2PointsMadeTotal</th>\n",
       "      <th>FieldGoals3PointsAttemptedTotal</th>\n",
       "      <th>FieldGoals3PointsMadeTotal</th>\n",
       "      <th>FreeThrowsAttemptedTotal</th>\n",
       "      <th>...</th>\n",
       "      <th>PlayerId</th>\n",
       "      <th>PlayerLink</th>\n",
       "      <th>PlusMinus</th>\n",
       "      <th>PointsTotal</th>\n",
       "      <th>Position</th>\n",
       "      <th>SecondsTotal</th>\n",
       "      <th>ShirtNumber</th>\n",
       "      <th>StealsTotal</th>\n",
       "      <th>TripleDoubles</th>\n",
       "      <th>TurnOversTotal</th>\n",
       "    </tr>\n",
       "  </thead>\n",
       "  <tbody>\n",
       "    <tr>\n",
       "      <th>0</th>\n",
       "      <td>45</td>\n",
       "      <td>3</td>\n",
       "      <td>48</td>\n",
       "      <td>1</td>\n",
       "      <td>130.0</td>\n",
       "      <td>30</td>\n",
       "      <td>20</td>\n",
       "      <td>38</td>\n",
       "      <td>10</td>\n",
       "      <td>16</td>\n",
       "      <td>...</td>\n",
       "      <td>152139</td>\n",
       "      <td>/basketballworldcup/2019/player/Joe-Ingles</td>\n",
       "      <td>39</td>\n",
       "      <td>84</td>\n",
       "      <td>Small Forward</td>\n",
       "      <td>16261</td>\n",
       "      <td>N/A</td>\n",
       "      <td>13</td>\n",
       "      <td>0</td>\n",
       "      <td>24</td>\n",
       "    </tr>\n",
       "    <tr>\n",
       "      <th>1</th>\n",
       "      <td>50</td>\n",
       "      <td>0</td>\n",
       "      <td>25</td>\n",
       "      <td>0</td>\n",
       "      <td>91.0</td>\n",
       "      <td>30</td>\n",
       "      <td>9</td>\n",
       "      <td>39</td>\n",
       "      <td>14</td>\n",
       "      <td>15</td>\n",
       "      <td>...</td>\n",
       "      <td>173478</td>\n",
       "      <td>/basketballworldcup/2019/player/Matthew-Dellav...</td>\n",
       "      <td>48</td>\n",
       "      <td>71</td>\n",
       "      <td>Guard</td>\n",
       "      <td>14670</td>\n",
       "      <td>N/A</td>\n",
       "      <td>5</td>\n",
       "      <td>0</td>\n",
       "      <td>20</td>\n",
       "    </tr>\n",
       "    <tr>\n",
       "      <th>2</th>\n",
       "      <td>31</td>\n",
       "      <td>2</td>\n",
       "      <td>11</td>\n",
       "      <td>0</td>\n",
       "      <td>144.0</td>\n",
       "      <td>66</td>\n",
       "      <td>38</td>\n",
       "      <td>57</td>\n",
       "      <td>23</td>\n",
       "      <td>43</td>\n",
       "      <td>...</td>\n",
       "      <td>156215</td>\n",
       "      <td>/basketballworldcup/2019/player/Patty-Mills</td>\n",
       "      <td>57</td>\n",
       "      <td>182</td>\n",
       "      <td>Guard</td>\n",
       "      <td>16272</td>\n",
       "      <td>N/A</td>\n",
       "      <td>7</td>\n",
       "      <td>0</td>\n",
       "      <td>28</td>\n",
       "    </tr>\n",
       "    <tr>\n",
       "      <th>3</th>\n",
       "      <td>14</td>\n",
       "      <td>4</td>\n",
       "      <td>32</td>\n",
       "      <td>1</td>\n",
       "      <td>119.0</td>\n",
       "      <td>41</td>\n",
       "      <td>24</td>\n",
       "      <td>21</td>\n",
       "      <td>11</td>\n",
       "      <td>11</td>\n",
       "      <td>...</td>\n",
       "      <td>151328</td>\n",
       "      <td>/basketballworldcup/2019/player/Aron-Baynes</td>\n",
       "      <td>35</td>\n",
       "      <td>91</td>\n",
       "      <td>Forward</td>\n",
       "      <td>10210</td>\n",
       "      <td>N/A</td>\n",
       "      <td>3</td>\n",
       "      <td>0</td>\n",
       "      <td>9</td>\n",
       "    </tr>\n",
       "    <tr>\n",
       "      <th>4</th>\n",
       "      <td>19</td>\n",
       "      <td>6</td>\n",
       "      <td>36</td>\n",
       "      <td>0</td>\n",
       "      <td>106.0</td>\n",
       "      <td>47</td>\n",
       "      <td>31</td>\n",
       "      <td>2</td>\n",
       "      <td>0</td>\n",
       "      <td>6</td>\n",
       "      <td>...</td>\n",
       "      <td>143395</td>\n",
       "      <td>/basketballworldcup/2019/player/Andrew-Bogut</td>\n",
       "      <td>10</td>\n",
       "      <td>64</td>\n",
       "      <td>Center</td>\n",
       "      <td>8582</td>\n",
       "      <td>N/A</td>\n",
       "      <td>4</td>\n",
       "      <td>0</td>\n",
       "      <td>13</td>\n",
       "    </tr>\n",
       "  </tbody>\n",
       "</table>\n",
       "<p>5 rows × 27 columns</p>\n",
       "</div>"
      ],
      "text/plain": [
       "   AssistsTotal  BlocksTotal  DefensiveReboundsTotal  DoubleDoubles  \\\n",
       "0            45            3                      48              1   \n",
       "1            50            0                      25              0   \n",
       "2            31            2                      11              0   \n",
       "3            14            4                      32              1   \n",
       "4            19            6                      36              0   \n",
       "\n",
       "   Efficiency  FieldGoals2PointsAttemptedTotal  FieldGoals2PointsMadeTotal  \\\n",
       "0       130.0                               30                          20   \n",
       "1        91.0                               30                           9   \n",
       "2       144.0                               66                          38   \n",
       "3       119.0                               41                          24   \n",
       "4       106.0                               47                          31   \n",
       "\n",
       "   FieldGoals3PointsAttemptedTotal  FieldGoals3PointsMadeTotal  \\\n",
       "0                               38                          10   \n",
       "1                               39                          14   \n",
       "2                               57                          23   \n",
       "3                               21                          11   \n",
       "4                                2                           0   \n",
       "\n",
       "   FreeThrowsAttemptedTotal  ...  PlayerId  \\\n",
       "0                        16  ...    152139   \n",
       "1                        15  ...    173478   \n",
       "2                        43  ...    156215   \n",
       "3                        11  ...    151328   \n",
       "4                         6  ...    143395   \n",
       "\n",
       "                                          PlayerLink PlusMinus  PointsTotal  \\\n",
       "0         /basketballworldcup/2019/player/Joe-Ingles        39           84   \n",
       "1  /basketballworldcup/2019/player/Matthew-Dellav...        48           71   \n",
       "2        /basketballworldcup/2019/player/Patty-Mills        57          182   \n",
       "3        /basketballworldcup/2019/player/Aron-Baynes        35           91   \n",
       "4       /basketballworldcup/2019/player/Andrew-Bogut        10           64   \n",
       "\n",
       "        Position SecondsTotal  ShirtNumber  StealsTotal TripleDoubles  \\\n",
       "0  Small Forward        16261          N/A           13             0   \n",
       "1          Guard        14670          N/A            5             0   \n",
       "2          Guard        16272          N/A            7             0   \n",
       "3        Forward        10210          N/A            3             0   \n",
       "4         Center         8582          N/A            4             0   \n",
       "\n",
       "   TurnOversTotal  \n",
       "0              24  \n",
       "1              20  \n",
       "2              28  \n",
       "3               9  \n",
       "4              13  \n",
       "\n",
       "[5 rows x 27 columns]"
      ]
     },
     "execution_count": 14,
     "metadata": {},
     "output_type": "execute_result"
    }
   ],
   "source": [
    "players.head(5)"
   ]
  },
  {
   "cell_type": "code",
   "execution_count": 15,
   "metadata": {},
   "outputs": [
    {
     "data": {
      "text/plain": [
       "Index(['AssistsTotal', 'BlocksTotal', 'DefensiveReboundsTotal',\n",
       "       'DoubleDoubles', 'Efficiency', 'FieldGoals2PointsAttemptedTotal',\n",
       "       'FieldGoals2PointsMadeTotal', 'FieldGoals3PointsAttemptedTotal',\n",
       "       'FieldGoals3PointsMadeTotal', 'FreeThrowsAttemptedTotal',\n",
       "       'FreeThrowsMadeTotal', 'GamesPlayedTotal', 'LastName', 'MinutesTotal',\n",
       "       'OffensiveReboundsTotal', 'OfficialName', 'PersonalFoulsTotal',\n",
       "       'PlayerId', 'PlayerLink', 'PlusMinus', 'PointsTotal', 'Position',\n",
       "       'SecondsTotal', 'ShirtNumber', 'StealsTotal', 'TripleDoubles',\n",
       "       'TurnOversTotal'],\n",
       "      dtype='object')"
      ]
     },
     "execution_count": 15,
     "metadata": {},
     "output_type": "execute_result"
    }
   ],
   "source": [
    "players.columns"
   ]
  },
  {
   "cell_type": "code",
   "execution_count": 16,
   "metadata": {},
   "outputs": [
    {
     "data": {
      "text/plain": [
       "0             Joe Ingles (AUS)\n",
       "1    Matthew Dellavedova (AUS)\n",
       "2            Patty Mills (AUS)\n",
       "3            Aron Baynes (AUS)\n",
       "4           Andrew Bogut (AUS)\n",
       "Name: OfficialName, dtype: object"
      ]
     },
     "execution_count": 16,
     "metadata": {},
     "output_type": "execute_result"
    }
   ],
   "source": [
    "players.OfficialName.head(5)"
   ]
  },
  {
   "cell_type": "code",
   "execution_count": 19,
   "metadata": {},
   "outputs": [],
   "source": [
    "def get_country(item):\n",
    "    return item.split('(')[1].split(')')[0]"
   ]
  },
  {
   "cell_type": "code",
   "execution_count": 20,
   "metadata": {},
   "outputs": [
    {
     "data": {
      "text/plain": [
       "'AUS'"
      ]
     },
     "execution_count": 20,
     "metadata": {},
     "output_type": "execute_result"
    }
   ],
   "source": [
    "get_country('Je Ingles (AUS)')"
   ]
  },
  {
   "cell_type": "code",
   "execution_count": 23,
   "metadata": {},
   "outputs": [],
   "source": [
    "players['Country'] = players['OfficialName'].apply(get_country)"
   ]
  },
  {
   "cell_type": "code",
   "execution_count": 37,
   "metadata": {},
   "outputs": [
    {
     "data": {
      "text/plain": [
       "<matplotlib.axes._subplots.AxesSubplot at 0x185fc0602b0>"
      ]
     },
     "execution_count": 37,
     "metadata": {},
     "output_type": "execute_result"
    },
    {
     "data": {
      "image/png": "[encoded data removed]",
      "text/plain": [
       "<Figure size 432x288 with 1 Axes>"
      ]
     },
     "metadata": {
      "needs_background": "light"
     },
     "output_type": "display_data"
    }
   ],
   "source": [
    "players[players['Country']=='GRE'].groupby(['Position']).sum()['Efficiency'].plot.barh()"
   ]
  },
  {
   "cell_type": "code",
   "execution_count": 38,
   "metadata": {},
   "outputs": [],
   "source": []
  },
  {
   "cell_type": "code",
   "execution_count": 42,
   "metadata": {},
   "outputs": [],
   "source": [
    "serbia = players[players['Country']=='SRB']"
   ]
  },
  {
   "cell_type": "code",
   "execution_count": 43,
   "metadata": {},
   "outputs": [
    {
     "data": {
      "text/html": [
       "<div>\n",
       "<style scoped>\n",
       "    .dataframe tbody tr th:only-of-type {\n",
       "        vertical-align: middle;\n",
       "    }\n",
       "\n",
       "    .dataframe tbody tr th {\n",
       "        vertical-align: top;\n",
       "    }\n",
       "\n",
       "    .dataframe thead th {\n",
       "        text-align: right;\n",
       "    }\n",
       "</style>\n",
       "<table border=\"1\" class=\"dataframe\">\n",
       "  <thead>\n",
       "    <tr style=\"text-align: right;\">\n",
       "      <th></th>\n",
       "      <th>AssistsTotal</th>\n",
       "      <th>BlocksTotal</th>\n",
       "      <th>DefensiveReboundsTotal</th>\n",
       "      <th>DoubleDoubles</th>\n",
       "      <th>Efficiency</th>\n",
       "      <th>FieldGoals2PointsAttemptedTotal</th>\n",
       "      <th>FieldGoals2PointsMadeTotal</th>\n",
       "      <th>FieldGoals3PointsAttemptedTotal</th>\n",
       "      <th>FieldGoals3PointsMadeTotal</th>\n",
       "      <th>FreeThrowsAttemptedTotal</th>\n",
       "      <th>...</th>\n",
       "      <th>PlayerLink</th>\n",
       "      <th>PlusMinus</th>\n",
       "      <th>PointsTotal</th>\n",
       "      <th>Position</th>\n",
       "      <th>SecondsTotal</th>\n",
       "      <th>ShirtNumber</th>\n",
       "      <th>StealsTotal</th>\n",
       "      <th>TripleDoubles</th>\n",
       "      <th>TurnOversTotal</th>\n",
       "      <th>Country</th>\n",
       "    </tr>\n",
       "  </thead>\n",
       "  <tbody>\n",
       "    <tr>\n",
       "      <th>20</th>\n",
       "      <td>43</td>\n",
       "      <td>2</td>\n",
       "      <td>24</td>\n",
       "      <td>0</td>\n",
       "      <td>98.0</td>\n",
       "      <td>27</td>\n",
       "      <td>17</td>\n",
       "      <td>22</td>\n",
       "      <td>7</td>\n",
       "      <td>2</td>\n",
       "      <td>...</td>\n",
       "      <td>/basketballworldcup/2019/player/Stefan-Jovic</td>\n",
       "      <td>133</td>\n",
       "      <td>56</td>\n",
       "      <td>Point Guard</td>\n",
       "      <td>11981</td>\n",
       "      <td>N/A</td>\n",
       "      <td>8</td>\n",
       "      <td>0</td>\n",
       "      <td>16</td>\n",
       "      <td>SRB</td>\n",
       "    </tr>\n",
       "    <tr>\n",
       "      <th>21</th>\n",
       "      <td>26</td>\n",
       "      <td>0</td>\n",
       "      <td>12</td>\n",
       "      <td>0</td>\n",
       "      <td>57.0</td>\n",
       "      <td>22</td>\n",
       "      <td>13</td>\n",
       "      <td>15</td>\n",
       "      <td>3</td>\n",
       "      <td>10</td>\n",
       "      <td>...</td>\n",
       "      <td>/basketballworldcup/2019/player/Vasilije-Micic</td>\n",
       "      <td>29</td>\n",
       "      <td>45</td>\n",
       "      <td>Point Guard</td>\n",
       "      <td>8984</td>\n",
       "      <td>N/A</td>\n",
       "      <td>7</td>\n",
       "      <td>0</td>\n",
       "      <td>14</td>\n",
       "      <td>SRB</td>\n",
       "    </tr>\n",
       "    <tr>\n",
       "      <th>22</th>\n",
       "      <td>35</td>\n",
       "      <td>2</td>\n",
       "      <td>25</td>\n",
       "      <td>1</td>\n",
       "      <td>197.0</td>\n",
       "      <td>42</td>\n",
       "      <td>25</td>\n",
       "      <td>66</td>\n",
       "      <td>35</td>\n",
       "      <td>35</td>\n",
       "      <td>...</td>\n",
       "      <td>/basketballworldcup/2019/player/Bogdan-Bogdanovic</td>\n",
       "      <td>100</td>\n",
       "      <td>183</td>\n",
       "      <td>Shooting Guard</td>\n",
       "      <td>13441</td>\n",
       "      <td>N/A</td>\n",
       "      <td>10</td>\n",
       "      <td>0</td>\n",
       "      <td>11</td>\n",
       "      <td>SRB</td>\n",
       "    </tr>\n",
       "    <tr>\n",
       "      <th>23</th>\n",
       "      <td>8</td>\n",
       "      <td>1</td>\n",
       "      <td>6</td>\n",
       "      <td>0</td>\n",
       "      <td>35.0</td>\n",
       "      <td>9</td>\n",
       "      <td>5</td>\n",
       "      <td>20</td>\n",
       "      <td>7</td>\n",
       "      <td>10</td>\n",
       "      <td>...</td>\n",
       "      <td>/basketballworldcup/2019/player/Marko-Guduric</td>\n",
       "      <td>35</td>\n",
       "      <td>39</td>\n",
       "      <td>Shooting Guard</td>\n",
       "      <td>6279</td>\n",
       "      <td>N/A</td>\n",
       "      <td>5</td>\n",
       "      <td>0</td>\n",
       "      <td>7</td>\n",
       "      <td>SRB</td>\n",
       "    </tr>\n",
       "    <tr>\n",
       "      <th>24</th>\n",
       "      <td>7</td>\n",
       "      <td>2</td>\n",
       "      <td>17</td>\n",
       "      <td>0</td>\n",
       "      <td>73.0</td>\n",
       "      <td>20</td>\n",
       "      <td>12</td>\n",
       "      <td>14</td>\n",
       "      <td>4</td>\n",
       "      <td>24</td>\n",
       "      <td>...</td>\n",
       "      <td>/basketballworldcup/2019/player/Vladimir-Lucic</td>\n",
       "      <td>66</td>\n",
       "      <td>57</td>\n",
       "      <td>Forward</td>\n",
       "      <td>10418</td>\n",
       "      <td>N/A</td>\n",
       "      <td>6</td>\n",
       "      <td>0</td>\n",
       "      <td>2</td>\n",
       "      <td>SRB</td>\n",
       "    </tr>\n",
       "  </tbody>\n",
       "</table>\n",
       "<p>5 rows × 28 columns</p>\n",
       "</div>"
      ],
      "text/plain": [
       "    AssistsTotal  BlocksTotal  DefensiveReboundsTotal  DoubleDoubles  \\\n",
       "20            43            2                      24              0   \n",
       "21            26            0                      12              0   \n",
       "22            35            2                      25              1   \n",
       "23             8            1                       6              0   \n",
       "24             7            2                      17              0   \n",
       "\n",
       "    Efficiency  FieldGoals2PointsAttemptedTotal  FieldGoals2PointsMadeTotal  \\\n",
       "20        98.0                               27                          17   \n",
       "21        57.0                               22                          13   \n",
       "22       197.0                               42                          25   \n",
       "23        35.0                                9                           5   \n",
       "24        73.0                               20                          12   \n",
       "\n",
       "    FieldGoals3PointsAttemptedTotal  FieldGoals3PointsMadeTotal  \\\n",
       "20                               22                           7   \n",
       "21                               15                           3   \n",
       "22                               66                          35   \n",
       "23                               20                           7   \n",
       "24                               14                           4   \n",
       "\n",
       "    FreeThrowsAttemptedTotal  ...  \\\n",
       "20                         2  ...   \n",
       "21                        10  ...   \n",
       "22                        35  ...   \n",
       "23                        10  ...   \n",
       "24                        24  ...   \n",
       "\n",
       "                                           PlayerLink  PlusMinus PointsTotal  \\\n",
       "20       /basketballworldcup/2019/player/Stefan-Jovic        133          56   \n",
       "21     /basketballworldcup/2019/player/Vasilije-Micic         29          45   \n",
       "22  /basketballworldcup/2019/player/Bogdan-Bogdanovic        100         183   \n",
       "23      /basketballworldcup/2019/player/Marko-Guduric         35          39   \n",
       "24     /basketballworldcup/2019/player/Vladimir-Lucic         66          57   \n",
       "\n",
       "          Position  SecondsTotal ShirtNumber  StealsTotal  TripleDoubles  \\\n",
       "20     Point Guard         11981         N/A            8              0   \n",
       "21     Point Guard          8984         N/A            7              0   \n",
       "22  Shooting Guard         13441         N/A           10              0   \n",
       "23  Shooting Guard          6279         N/A            5              0   \n",
       "24         Forward         10418         N/A            6              0   \n",
       "\n",
       "   TurnOversTotal  Country  \n",
       "20             16      SRB  \n",
       "21             14      SRB  \n",
       "22             11      SRB  \n",
       "23              7      SRB  \n",
       "24              2      SRB  \n",
       "\n",
       "[5 rows x 28 columns]"
      ]
     },
     "execution_count": 43,
     "metadata": {},
     "output_type": "execute_result"
    }
   ],
   "source": [
    "serbia.head()"
   ]
  },
  {
   "cell_type": "code",
   "execution_count": 44,
   "metadata": {},
   "outputs": [
    {
     "data": {
      "text/plain": [
       "Index(['AssistsTotal', 'BlocksTotal', 'DefensiveReboundsTotal',\n",
       "       'DoubleDoubles', 'Efficiency', 'FieldGoals2PointsAttemptedTotal',\n",
       "       'FieldGoals2PointsMadeTotal', 'FieldGoals3PointsAttemptedTotal',\n",
       "       'FieldGoals3PointsMadeTotal', 'FreeThrowsAttemptedTotal',\n",
       "       'FreeThrowsMadeTotal', 'GamesPlayedTotal', 'LastName', 'MinutesTotal',\n",
       "       'OffensiveReboundsTotal', 'OfficialName', 'PersonalFoulsTotal',\n",
       "       'PlayerId', 'PlayerLink', 'PlusMinus', 'PointsTotal', 'Position',\n",
       "       'SecondsTotal', 'ShirtNumber', 'StealsTotal', 'TripleDoubles',\n",
       "       'TurnOversTotal', 'Country'],\n",
       "      dtype='object')"
      ]
     },
     "execution_count": 44,
     "metadata": {},
     "output_type": "execute_result"
    }
   ],
   "source": [
    "serbia.columns"
   ]
  },
  {
   "cell_type": "code",
   "execution_count": 46,
   "metadata": {},
   "outputs": [
    {
     "data": {
      "text/plain": [
       "20          Stefan Jovic (SRB)\n",
       "21        Vasilije Micic (SRB)\n",
       "22     Bogdan Bogdanovic (SRB)\n",
       "23         Marko Guduric (SRB)\n",
       "24        Vladimir Lucic (SRB)\n",
       "25       Marko Simonovic (SRB)\n",
       "26       Nemanja Bjelica (SRB)\n",
       "27       Stefan Bircevic (SRB)\n",
       "28          Nikola Jokic (SRB)\n",
       "29    Miroslav Raduljica (SRB)\n",
       "30      Nikola Milutinov (SRB)\n",
       "31      Boban Marjanovic (SRB)\n",
       "Name: OfficialName, dtype: object"
      ]
     },
     "execution_count": 46,
     "metadata": {},
     "output_type": "execute_result"
    }
   ],
   "source": [
    "serbia['OfficialName']"
   ]
  },
  {
   "cell_type": "code",
   "execution_count": 56,
   "metadata": {},
   "outputs": [],
   "source": [
    "def get_full_name(item):\n",
    "    return str(item.split('(')[0]).rstrip()"
   ]
  },
  {
   "cell_type": "code",
   "execution_count": 57,
   "metadata": {},
   "outputs": [],
   "source": [
    "players['FullName'] = players['OfficialName'].apply(get_full_name)"
   ]
  },
  {
   "cell_type": "code",
   "execution_count": 58,
   "metadata": {},
   "outputs": [
    {
     "data": {
      "text/plain": [
       "2           Patty Mills\n",
       "85          Rudy Gobert\n",
       "309    Facundo Campazzo\n",
       "270      Windi Graterol\n",
       "225          Omar Abada\n",
       "Name: FullName, dtype: object"
      ]
     },
     "execution_count": 58,
     "metadata": {},
     "output_type": "execute_result"
    }
   ],
   "source": [
    "players['FullName'].sample(5)"
   ]
  },
  {
   "cell_type": "code",
   "execution_count": 59,
   "metadata": {},
   "outputs": [],
   "source": [
    "players.to_csv(\"fiba_stats.csv\")"
   ]
  },
  {
   "cell_type": "code",
   "execution_count": 65,
   "metadata": {},
   "outputs": [
    {
     "name": "stdout",
     "output_type": "stream",
     "text": [
      "788.0\n"
     ]
    }
   ],
   "source": [
    "# argentina def rebs should be 27.6\n",
    "arg_def_reb = players[players['Country']=='ARG']['Efficiency'].sum()\n",
    "print(arg_def_reb)"
   ]
  },
  {
   "cell_type": "markdown",
   "metadata": {},
   "source": [
    "### Querying by countries\n",
    "1. All countries rebounds, offensive and defensive, stacked\n",
    "2. All countries points \n",
    "3. Efficiency\n",
    "4. Steals\n",
    "5. Turnovers\n",
    "6. Assists"
   ]
  },
  {
   "cell_type": "code",
   "execution_count": 92,
   "metadata": {},
   "outputs": [
    {
     "data": {
      "text/plain": [
       "<matplotlib.axes._subplots.AxesSubplot at 0x185827807f0>"
      ]
     },
     "execution_count": 92,
     "metadata": {},
     "output_type": "execute_result"
    },
    {
     "data": {
      "image/png": "[encoded data removed]",
      "text/plain": [
       "<Figure size 432x288 with 1 Axes>"
      ]
     },
     "metadata": {
      "needs_background": "light"
     },
     "output_type": "display_data"
    }
   ],
   "source": [
    "# rebounds\n",
    "assists_by_country = players.groupby(['Country'])['AssistsTotal'].sum()\n",
    "assists_by_country.sort_values(ascending=True).plot.barh()"
   ]
  },
  {
   "cell_type": "code",
   "execution_count": 94,
   "metadata": {},
   "outputs": [
    {
     "data": {
      "text/plain": [
       "Country\n",
       "SRB    203\n",
       "ESP    182\n",
       "AUS    182\n",
       "CZE    170\n",
       "USA    160\n",
       "ARG    157\n",
       "POL    137\n",
       "FRA    135\n",
       "NZL    113\n",
       "CAN    113\n",
       "NGR     99\n",
       "GER     99\n",
       "GRE     97\n",
       "RUS     93\n",
       "BRA     92\n",
       "TUN     92\n",
       "LTU     90\n",
       "TUR     90\n",
       "IRI     87\n",
       "KOR     86\n",
       "MNE     85\n",
       "ITA     83\n",
       "DOM     81\n",
       "VEN     79\n",
       "CIV     77\n",
       "CHN     75\n",
       "PUR     73\n",
       "PHI     66\n",
       "JOR     61\n",
       "SEN     60\n",
       "ANG     59\n",
       "JPN     48\n",
       "Name: AssistsTotal, dtype: int64"
      ]
     },
     "execution_count": 94,
     "metadata": {},
     "output_type": "execute_result"
    }
   ],
   "source": [
    "assists_by_country.sort_values(ascending=False)"
   ]
  },
  {
   "cell_type": "code",
   "execution_count": null,
   "metadata": {},
   "outputs": [],
   "source": []
  }
 ],
 "metadata": {
  "kernelspec": {
   "display_name": "Python 3",
   "language": "python",
   "name": "python3"
  },
  "language_info": {
   "codemirror_mode": {
    "name": "ipython",
    "version": 3
   },
   "file_extension": ".py",
   "mimetype": "text/x-python",
   "name": "python",
   "nbconvert_exporter": "python",
   "pygments_lexer": "ipython3",
   "version": "3.7.3"
  }
 },
 "nbformat": 4,
 "nbformat_minor": 2
}
